{
 "cells": [
  {
   "cell_type": "markdown",
   "metadata": {},
   "source": [
    "## Лабораторная №3 \"Уравнение тепловпроводности\""
   ]
  },
  {
   "cell_type": "markdown",
   "metadata": {},
   "source": [
    "Постановка задачи:"
   ]
  },
  {
   "cell_type": "markdown",
   "metadata": {},
   "source": [
    "$$ \n",
    "\\begin{cases}\n",
    "\\frac{\\partial u}{\\partial t} = \\frac{\\partial}{\\partial x}(k(x) * \\frac{\\partial u}{\\partial x}) + f(x,t) , x \\in[0, l]\\\\   \n",
    "u(x = 0, t) = \\mu _1(t),               t > 0 \\\\\n",
    "u(x = l, t) = \\mu _1(t) \\\\\n",
    "u(x, t = 0) = \\varphi (x) \\\\\n",
    "\\end{cases}\n",
    "$$ "
   ]
  },
  {
   "cell_type": "markdown",
   "metadata": {},
   "source": [
    "Схема второго порядка:"
   ]
  },
  {
   "cell_type": "markdown",
   "metadata": {},
   "source": [
    "$$ \\frac{y_i^{n+1} - y_i^n}{\\tau} = \\sigma L(y^{n+1}) + (1 - \\sigma)f(y^n) + f(x_i, t^{n+\\frac{1}{2}})$$\n",
    "$$ L(y^{n+1}) = [k_{i+\\frac{1}{2}}\\frac{y_{i+1}^{n+1} - y_i^{n+1}}{h} - k_{i-\\frac{1}{2}}\\frac{y_{i+1}^{n+1} - y_i^{n+1}}{h}]  $$"
   ]
  },
  {
   "cell_type": "markdown",
   "metadata": {},
   "source": [
    "Выражение для метода прогонки:"
   ]
  },
  {
   "cell_type": "markdown",
   "metadata": {},
   "source": [
    "$$ A_iy_{i+1}^{n+1} - C_iy_i^{n+1} + B_iy_{i-1}^{n+1} = -F_i $$\n",
    "$$ A_i = k_{i+\\frac{1}{2}}\\frac{\\tau}{h} $$\n",
    "$$ B_i = k_{i-\\frac{1}{2}}\\frac{\\tau}{h} $$\n",
    "$$ C_i = k_{i+\\frac{1}{2}}\\frac{\\tau}{h_2} + k_{i-\\frac{1}{2}}\\frac{\\tau}{h_2} + 1 $$\n",
    "$$ F_i = -[\\tau f(x,t^{n+\\frac{1}{2}}) + y_i^n]$$"
   ]
  },
  {
   "cell_type": "markdown",
   "metadata": {},
   "source": [
    "Будем решать задачу:"
   ]
  },
  {
   "cell_type": "markdown",
   "metadata": {},
   "source": [
    "$$ \n",
    "\\begin{cases}\n",
    "\\frac{\\partial u}{\\partial t} = \\frac{\\partial^2u}{\\partial x^2}, x \\in[0, 2]\\\\   \n",
    "u(x = 0, t) = \\mu _1(t),               t > 0 \\\\\n",
    "u(x = 2, t) = \\mu _1(t) \\\\\n",
    "u(x, t = 0) = \\sin (\\frac{5\\pi}{2} x) \\\\\n",
    "\\end{cases}\n",
    "$$ "
   ]
  }
 ],
 "metadata": {
  "kernelspec": {
   "display_name": "Python 3",
   "language": "python",
   "name": "python3"
  },
  "language_info": {
   "codemirror_mode": {
    "name": "ipython",
    "version": 3
   },
   "file_extension": ".py",
   "mimetype": "text/x-python",
   "name": "python",
   "nbconvert_exporter": "python",
   "pygments_lexer": "ipython3",
   "version": "3.6.4"
  }
 },
 "nbformat": 4,
 "nbformat_minor": 2
}
